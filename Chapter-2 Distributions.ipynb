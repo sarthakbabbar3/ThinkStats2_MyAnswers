{
 "cells": [
  {
   "cell_type": "code",
   "execution_count": 5,
   "metadata": {},
   "outputs": [],
   "source": [
    "import sys\n",
    "import os\n",
    "os.chdir(r'/home/root1/sarthak/ThinkStats/ThinkStats2-master/code/')\n",
    "import nsfg\n",
    "import numpy as np\n",
    "df = nsfg.ReadFemPreg()"
   ]
  },
  {
   "cell_type": "code",
   "execution_count": 6,
   "metadata": {},
   "outputs": [
    {
     "data": {
      "text/plain": [
       "array([ 8.,  7.,  9., ..., nan,  7.,  7.])"
      ]
     },
     "execution_count": 6,
     "metadata": {},
     "output_type": "execute_result"
    }
   ],
   "source": [
    "df['birthwgt_lb'].values"
   ]
  },
  {
   "cell_type": "markdown",
   "metadata": {},
   "source": [
    "### Plotting Histograms in Matplotlib"
   ]
  },
  {
   "cell_type": "code",
   "execution_count": 7,
   "metadata": {},
   "outputs": [],
   "source": [
    "from matplotlib import pyplot as plt"
   ]
  },
  {
   "cell_type": "code",
   "execution_count": 8,
   "metadata": {},
   "outputs": [
    {
     "data": {
      "text/plain": [
       "([<matplotlib.axis.XTick at 0x7f0de841c390>,\n",
       "  <matplotlib.axis.XTick at 0x7f0de82f4780>,\n",
       "  <matplotlib.axis.XTick at 0x7f0de83630f0>,\n",
       "  <matplotlib.axis.XTick at 0x7f0de652f5f8>,\n",
       "  <matplotlib.axis.XTick at 0x7f0de652f128>,\n",
       "  <matplotlib.axis.XTick at 0x7f0de64f4400>,\n",
       "  <matplotlib.axis.XTick at 0x7f0de64f49e8>,\n",
       "  <matplotlib.axis.XTick at 0x7f0de64f4358>,\n",
       "  <matplotlib.axis.XTick at 0x7f0de64f10f0>,\n",
       "  <matplotlib.axis.XTick at 0x7f0de64f1630>,\n",
       "  <matplotlib.axis.XTick at 0x7f0de64f1ba8>,\n",
       "  <matplotlib.axis.XTick at 0x7f0de6504160>,\n",
       "  <matplotlib.axis.XTick at 0x7f0de65046d8>,\n",
       "  <matplotlib.axis.XTick at 0x7f0de6504c50>],\n",
       " <a list of 14 Text xticklabel objects>)"
      ]
     },
     "execution_count": 8,
     "metadata": {},
     "output_type": "execute_result"
    },
    {
     "data": {
      "image/png": "[encoded data removed]",
      "text/plain": [
       "<Figure size 432x288 with 1 Axes>"
      ]
     },
     "metadata": {
      "needs_background": "light"
     },
     "output_type": "display_data"
    }
   ],
   "source": [
    "live = df[df.outcome == 1]\n",
    "plt.hist(live['birthwgt_lb'].values, bins=[1,2,3,4,5,6,7,8,9,10,11,12,13,14],align = 'left', rwidth=0.9)\n",
    "plt.xlabel('Pounds')\n",
    "plt.ylabel('Frequency')\n",
    "plt.title('Birth Weights of Children')\n",
    "plt.xticks([1,2,3,4,5,6,7,8,9,10,11,12,13,14])"
   ]
  },
  {
   "cell_type": "markdown",
   "metadata": {},
   "source": [
    "###  Mode = 7\n",
    "Normal distribution, but not true normal distribution since the tail extends farther to the left than the right and hence is not symmetric. "
   ]
  },
  {
   "cell_type": "code",
   "execution_count": 9,
   "metadata": {},
   "outputs": [
    {
     "name": "stderr",
     "output_type": "stream",
     "text": [
      "/home/root1/sarthak/global/lib/python3.6/site-packages/numpy/lib/histograms.py:829: RuntimeWarning: invalid value encountered in greater_equal\n",
      "  keep = (tmp_a >= first_edge)\n",
      "/home/root1/sarthak/global/lib/python3.6/site-packages/numpy/lib/histograms.py:830: RuntimeWarning: invalid value encountered in less_equal\n",
      "  keep &= (tmp_a <= last_edge)\n"
     ]
    },
    {
     "data": {
      "text/plain": [
       "([<matplotlib.axis.XTick at 0x7f0de797a8d0>,\n",
       "  <matplotlib.axis.XTick at 0x7f0de797a208>,\n",
       "  <matplotlib.axis.XTick at 0x7f0de5373c18>,\n",
       "  <matplotlib.axis.XTick at 0x7f0de7c78ac8>,\n",
       "  <matplotlib.axis.XTick at 0x7f0de7c78ef0>,\n",
       "  <matplotlib.axis.XTick at 0x7f0de7c83320>,\n",
       "  <matplotlib.axis.XTick at 0x7f0de7c837f0>,\n",
       "  <matplotlib.axis.XTick at 0x7f0de7c83cf8>,\n",
       "  <matplotlib.axis.XTick at 0x7f0de7c8a2b0>,\n",
       "  <matplotlib.axis.XTick at 0x7f0de7c8a828>,\n",
       "  <matplotlib.axis.XTick at 0x7f0de7c8ada0>,\n",
       "  <matplotlib.axis.XTick at 0x7f0de7c11358>,\n",
       "  <matplotlib.axis.XTick at 0x7f0de7c118d0>,\n",
       "  <matplotlib.axis.XTick at 0x7f0de7c11e48>,\n",
       "  <matplotlib.axis.XTick at 0x7f0de7c8ac18>],\n",
       " <a list of 15 Text xticklabel objects>)"
      ]
     },
     "execution_count": 9,
     "metadata": {},
     "output_type": "execute_result"
    },
    {
     "data": {
      "image/png": "[encoded data removed]",
      "text/plain": [
       "<Figure size 432x288 with 1 Axes>"
      ]
     },
     "metadata": {
      "needs_background": "light"
     },
     "output_type": "display_data"
    }
   ],
   "source": [
    "\n",
    "plt.hist(live['birthwgt_oz'].values, align = 'left', rwidth=0.9, bins = 15)\n",
    "plt.xlabel('Ounces')\n",
    "plt.ylabel('Frequency')\n",
    "plt.title('Ounces part of birth weights of children')\n",
    "plt.xticks([i for i in range(0,15)])"
   ]
  },
  {
   "cell_type": "markdown",
   "metadata": {},
   "source": [
    "In theory we expect this distribution to be uniform; that is, all\n",
    "values should have the same frequency. In fact, 0 is more common than the\n",
    "other values, and 1 and 15 are less common, probably because respondents\n",
    "round o\u000b",
    " birth weights that are close to an integer value."
   ]
  },
  {
   "cell_type": "code",
   "execution_count": 10,
   "metadata": {},
   "outputs": [
    {
     "data": {
      "text/plain": [
       "Text(0.5, 1.0, \"Mother's Age at the end of pregnancy\")"
      ]
     },
     "execution_count": 10,
     "metadata": {},
     "output_type": "execute_result"
    },
    {
     "data": {
      "image/png": "[encoded data removed]",
      "text/plain": [
       "<Figure size 432x288 with 1 Axes>"
      ]
     },
     "metadata": {
      "needs_background": "light"
     },
     "output_type": "display_data"
    }
   ],
   "source": [
    "\n",
    "plt.hist(live['agepreg'].values, align = 'left', rwidth=0.9, bins = 20)\n",
    "plt.xlabel('Age')\n",
    "plt.ylabel('Frequency')\n",
    "plt.title(\"Mother's Age at the end of pregnancy\")\n",
    "# plt.xticks([i for i in range(0,50)])"
   ]
  },
  {
   "cell_type": "markdown",
   "metadata": {},
   "source": [
    "The mode is 21 years. The distribution is very roughly bell-\n",
    "shaped, but in this case the tail extends farther to the right than left; most\n",
    "mothers are in their 20s, fewer in their 30s."
   ]
  },
  {
   "cell_type": "code",
   "execution_count": 11,
   "metadata": {},
   "outputs": [
    {
     "data": {
      "text/plain": [
       "Text(0.5, 1.0, 'Histogram of pregnancy length in weeks.')"
      ]
     },
     "execution_count": 11,
     "metadata": {},
     "output_type": "execute_result"
    },
    {
     "data": {
      "image/png": "[encoded data removed]",
      "text/plain": [
       "<Figure size 432x288 with 1 Axes>"
      ]
     },
     "metadata": {
      "needs_background": "light"
     },
     "output_type": "display_data"
    }
   ],
   "source": [
    "plt.hist(live['prglngth'].values, align = 'left', rwidth=0.9, bins = 20)\n",
    "plt.xlabel('Weeks')\n",
    "plt.ylabel('Frequency')\n",
    "plt.title(\"Histogram of pregnancy length in weeks.\")\n",
    "# plt.xticks([i for i in range(0,50)])"
   ]
  },
  {
   "cell_type": "markdown",
   "metadata": {},
   "source": [
    "By far the most common value is 39 weeks. The left tail is longer\n",
    "than the right; early babies are common, but pregnancies seldom go past 43\n",
    "weeks, and doctors often intervene if they do."
   ]
  },
  {
   "cell_type": "code",
   "execution_count": 12,
   "metadata": {},
   "outputs": [
    {
     "data": {
      "text/plain": [
       "[(50, 2),\n",
       " (48, 7),\n",
       " (47, 1),\n",
       " (46, 1),\n",
       " (45, 10),\n",
       " (44, 46),\n",
       " (43, 148),\n",
       " (42, 328),\n",
       " (41, 587),\n",
       " (40, 1116),\n",
       " (39, 4693),\n",
       " (38, 607),\n",
       " (37, 455),\n",
       " (36, 321),\n",
       " (35, 311),\n",
       " (34, 60),\n",
       " (33, 49),\n",
       " (32, 115),\n",
       " (31, 27),\n",
       " (30, 138),\n",
       " (29, 21),\n",
       " (28, 32),\n",
       " (27, 3),\n",
       " (26, 35),\n",
       " (25, 3),\n",
       " (24, 13),\n",
       " (23, 1),\n",
       " (22, 7),\n",
       " (21, 2),\n",
       " (20, 1),\n",
       " (19, 1),\n",
       " (18, 1),\n",
       " (17, 2),\n",
       " (13, 1),\n",
       " (9, 1),\n",
       " (4, 1),\n",
       " (0, 1)]"
      ]
     },
     "execution_count": 12,
     "metadata": {},
     "output_type": "execute_result"
    }
   ],
   "source": [
    "from collections import Counter\n",
    "sorted(Counter(live['prglngth']).items() , reverse=True, key=lambda x: x[0])"
   ]
  },
  {
   "cell_type": "markdown",
   "metadata": {},
   "source": [
    "##  First Babies v/s Others"
   ]
  },
  {
   "cell_type": "code",
   "execution_count": 13,
   "metadata": {},
   "outputs": [],
   "source": [
    "firsts = live[live.birthord == 1]\n",
    "others = live[live.birthord != 1]"
   ]
  },
  {
   "cell_type": "code",
   "execution_count": 14,
   "metadata": {},
   "outputs": [],
   "source": [
    "firsts_l = firsts.prglngth.values\n",
    "others_l = others.prglngth.values"
   ]
  },
  {
   "cell_type": "code",
   "execution_count": 15,
   "metadata": {},
   "outputs": [
    {
     "data": {
      "text/plain": [
       "(4413, 4735)"
      ]
     },
     "execution_count": 15,
     "metadata": {},
     "output_type": "execute_result"
    }
   ],
   "source": [
    "len(firsts_l),len(others_l)"
   ]
  },
  {
   "cell_type": "code",
   "execution_count": 35,
   "metadata": {
    "scrolled": false
   },
   "outputs": [
    {
     "data": {
      "text/plain": [
       "<matplotlib.legend.Legend at 0x7f0de63de898>"
      ]
     },
     "execution_count": 35,
     "metadata": {},
     "output_type": "execute_result"
    },
    {
     "data": {
      "image/png": "[encoded data removed]",
      "text/plain": [
       "<Figure size 1080x720 with 1 Axes>"
      ]
     },
     "metadata": {
      "needs_background": "light"
     },
     "output_type": "display_data"
    }
   ],
   "source": [
    "from matplotlib.pyplot import figure\n",
    "from matplotlib import pyplot as plt\n",
    "figure(figsize=(15,10))\n",
    "plt.hist(firsts_l, rwidth=0.7,bins = 100,label = 'first babies',align='left', range = (27,46))\n",
    "plt.hist(others_l, rwidth=0.7,bins = 100,label = 'other babies',align='right',range = (27,46))\n",
    "pyplot.legend(loc='upper right')"
   ]
  },
  {
   "cell_type": "code",
   "execution_count": 19,
   "metadata": {},
   "outputs": [
    {
     "data": {
      "text/plain": [
       "(38.56055968517709, 7.302662067826817, 2.702343810070587)"
      ]
     },
     "execution_count": 19,
     "metadata": {},
     "output_type": "execute_result"
    }
   ],
   "source": [
    "# Calculating summary statistics using Pandas\n",
    "mean = live.prglngth.mean()\n",
    "variance = live.prglngth.var()\n",
    "std = live.prglngth.std()\n",
    "mean,variance,std"
   ]
  },
  {
   "cell_type": "markdown",
   "metadata": {},
   "source": [
    "## Measuring Effect Size"
   ]
  },
  {
   "cell_type": "code",
   "execution_count": 20,
   "metadata": {},
   "outputs": [],
   "source": [
    "# By difference in mean"
   ]
  },
  {
   "cell_type": "code",
   "execution_count": 21,
   "metadata": {},
   "outputs": [
    {
     "data": {
      "text/plain": [
       "(38.60095173351461, 38.52291446673706)"
      ]
     },
     "execution_count": 21,
     "metadata": {},
     "output_type": "execute_result"
    }
   ],
   "source": [
    "firsts.prglngth.mean(), others.prglngth.mean()"
   ]
  },
  {
   "cell_type": "code",
   "execution_count": 22,
   "metadata": {},
   "outputs": [
    {
     "data": {
      "text/plain": [
       "38.56055968517709"
      ]
     },
     "execution_count": 22,
     "metadata": {},
     "output_type": "execute_result"
    }
   ],
   "source": [
    "av_pg_l = live.prglngth.mean()\n",
    "av_pg_l"
   ]
  },
  {
   "cell_type": "code",
   "execution_count": 23,
   "metadata": {},
   "outputs": [
    {
     "data": {
      "text/plain": [
       "0.20237586646738304"
      ]
     },
     "execution_count": 23,
     "metadata": {},
     "output_type": "execute_result"
    }
   ],
   "source": [
    "(firsts.prglngth.mean() - others.prglngth.mean())/av_pg_l*100"
   ]
  },
  {
   "cell_type": "markdown",
   "metadata": {},
   "source": [
    "0.2% difference as compared to a typical prg length"
   ]
  },
  {
   "cell_type": "markdown",
   "metadata": {},
   "source": [
    "### Effect Size using Cohen's d"
   ]
  },
  {
   "cell_type": "code",
   "execution_count": 24,
   "metadata": {},
   "outputs": [],
   "source": [
    "import math\n",
    "def cohen_d(array1, array2):\n",
    "    mean_difference = array1.mean() - array2.mean()\n",
    "    var1, var2 = array1.var(), array2.var()\n",
    "    n1 = len(array1)\n",
    "    n2 = len(array2)\n",
    "    pooled_variation = (n1*var1 + n2*var2)/(n1+n2)\n",
    "    d = mean_difference/(math.sqrt(pooled_variation))\n",
    "    return d"
   ]
  },
  {
   "cell_type": "code",
   "execution_count": 25,
   "metadata": {},
   "outputs": [
    {
     "data": {
      "text/plain": [
       "0.028879044654449834"
      ]
     },
     "execution_count": 25,
     "metadata": {},
     "output_type": "execute_result"
    }
   ],
   "source": [
    "cohen_d(firsts.prglngth, others.prglngth)"
   ]
  },
  {
   "cell_type": "markdown",
   "metadata": {},
   "source": [
    "####  0.028 std deviations is a very small effect size\n",
    "    Small effect = 0.2\n",
    "    Medium Effect = 0.5\n",
    "    Large Effect = 0.8\n"
   ]
  },
  {
   "cell_type": "markdown",
   "metadata": {},
   "source": [
    "## Exercises"
   ]
  },
  {
   "cell_type": "markdown",
   "metadata": {},
   "source": [
    "Using the variable `totalwgt_lb`, investigate whether first babies are lighter or heavier than others. \n",
    "\n",
    "Compute Cohen’s effect size to quantify the difference between the groups.  How does it compare to the difference in pregnancy length?"
   ]
  },
  {
   "cell_type": "code",
   "execution_count": 28,
   "metadata": {},
   "outputs": [
    {
     "data": {
      "text/plain": [
       "-0.12476118453549034"
      ]
     },
     "execution_count": 28,
     "metadata": {},
     "output_type": "execute_result"
    }
   ],
   "source": [
    "firsts.totalwgt_lb.mean()-others.totalwgt_lb.mean()"
   ]
  },
  {
   "cell_type": "markdown",
   "metadata": {},
   "source": [
    "First babies are lighter by 0.12 lb on average"
   ]
  },
  {
   "cell_type": "code",
   "execution_count": 29,
   "metadata": {},
   "outputs": [
    {
     "data": {
      "text/plain": [
       "7.265628457623368"
      ]
     },
     "execution_count": 29,
     "metadata": {},
     "output_type": "execute_result"
    }
   ],
   "source": [
    "avg_lb = live.totalwgt_lb.mean()\n",
    "avg_lb"
   ]
  },
  {
   "cell_type": "code",
   "execution_count": 30,
   "metadata": {},
   "outputs": [
    {
     "data": {
      "text/plain": [
       "-1.7171423678372415"
      ]
     },
     "execution_count": 30,
     "metadata": {},
     "output_type": "execute_result"
    }
   ],
   "source": [
    "(firsts.totalwgt_lb.mean()-others.totalwgt_lb.mean())/avg_lb*100"
   ]
  },
  {
   "cell_type": "markdown",
   "metadata": {},
   "source": [
    "1.717% difference as compared to avg baby weight"
   ]
  },
  {
   "cell_type": "code",
   "execution_count": 31,
   "metadata": {},
   "outputs": [
    {
     "data": {
      "text/plain": [
       "-0.08867292707260174"
      ]
     },
     "execution_count": 31,
     "metadata": {},
     "output_type": "execute_result"
    }
   ],
   "source": [
    "#cohen's d\n",
    "cohen_d(firsts.totalwgt_lb,others.totalwgt_lb)"
   ]
  },
  {
   "cell_type": "markdown",
   "metadata": {},
   "source": [
    "0.08 std deviations"
   ]
  },
  {
   "cell_type": "code",
   "execution_count": 32,
   "metadata": {},
   "outputs": [],
   "source": [
    "resp = nsfg.ReadFemResp()"
   ]
  },
  {
   "cell_type": "markdown",
   "metadata": {},
   "source": [
    "Make a histogram of <tt>totincr</tt> the total income for the respondent's family.  To interpret the codes see the [codebook](http://www.icpsr.umich.edu/nsfg6/Controller?displayPage=labelDetails&fileCode=FEM&section=R&subSec=7876&srtLabel=607543)."
   ]
  },
  {
   "cell_type": "code",
   "execution_count": 44,
   "metadata": {},
   "outputs": [
    {
     "data": {
      "text/plain": [
       "([<matplotlib.axis.XTick at 0x7f0de2043ba8>,\n",
       "  <matplotlib.axis.XTick at 0x7f0de2043550>,\n",
       "  <matplotlib.axis.XTick at 0x7f0de2043278>,\n",
       "  <matplotlib.axis.XTick at 0x7f0de5b077b8>,\n",
       "  <matplotlib.axis.XTick at 0x7f0de5b07c50>,\n",
       "  <matplotlib.axis.XTick at 0x7f0de5b18198>,\n",
       "  <matplotlib.axis.XTick at 0x7f0de5b18630>,\n",
       "  <matplotlib.axis.XTick at 0x7f0de5b18b00>,\n",
       "  <matplotlib.axis.XTick at 0x7f0de5b18d30>,\n",
       "  <matplotlib.axis.XTick at 0x7f0de5b204e0>,\n",
       "  <matplotlib.axis.XTick at 0x7f0de5b209b0>,\n",
       "  <matplotlib.axis.XTick at 0x7f0de5b20e80>,\n",
       "  <matplotlib.axis.XTick at 0x7f0de5b20908>,\n",
       "  <matplotlib.axis.XTick at 0x7f0de5b18be0>,\n",
       "  <matplotlib.axis.XTick at 0x7f0de5b07c18>],\n",
       " <a list of 15 Text xticklabel objects>)"
      ]
     },
     "execution_count": 44,
     "metadata": {},
     "output_type": "execute_result"
    },
    {
     "data": {
      "image/png": "[encoded data removed]",
      "text/plain": [
       "<Figure size 432x288 with 1 Axes>"
      ]
     },
     "metadata": {
      "needs_background": "light"
     },
     "output_type": "display_data"
    }
   ],
   "source": [
    "plt.hist(resp.totincr,bins = 15, rwidth=0.9, align='left')\n",
    "plt.xlabel('Income Category')\n",
    "plt.ylabel('Count')\n",
    "plt.title('Income Distribution')\n",
    "plt.xticks([i for i in range(0,15)])"
   ]
  },
  {
   "cell_type": "markdown",
   "metadata": {},
   "source": [
    "Make a histogram of age_r, the respondent's age at the time of interview."
   ]
  },
  {
   "cell_type": "code",
   "execution_count": 53,
   "metadata": {},
   "outputs": [
    {
     "data": {
      "text/plain": [
       "<matplotlib.legend.Legend at 0x7f0de5689358>"
      ]
     },
     "execution_count": 53,
     "metadata": {},
     "output_type": "execute_result"
    },
    {
     "data": {
      "image/png": "[encoded data removed]",
      "text/plain": [
       "<Figure size 576x432 with 1 Axes>"
      ]
     },
     "metadata": {
      "needs_background": "light"
     },
     "output_type": "display_data"
    }
   ],
   "source": [
    "figure(figsize=(8,6))\n",
    "plt.hist(resp.age_r,bins=25,rwidth=0.9,label='age')\n",
    "plt.xlabel('Age')\n",
    "plt.ylabel('Count')\n",
    "plt.title('Age Distribution')\n",
    "plt.legend(loc='upper right')"
   ]
  },
  {
   "cell_type": "markdown",
   "metadata": {},
   "source": [
    "Make a histogram of <tt>numfmhh</tt>, the number of people in the respondent's household."
   ]
  },
  {
   "cell_type": "code",
   "execution_count": 56,
   "metadata": {},
   "outputs": [
    {
     "data": {
      "text/plain": [
       "(array([ 942.,    0., 1716.,    0.,    0., 1826.,    0., 1740.,    0.,\n",
       "           0.,  906.,    0.,  313.,    0.,    0.,  118.,    0.,   78.,\n",
       "           0.,    4.]),\n",
       " array([0. , 0.4, 0.8, 1.2, 1.6, 2. , 2.4, 2.8, 3.2, 3.6, 4. , 4.4, 4.8,\n",
       "        5.2, 5.6, 6. , 6.4, 6.8, 7.2, 7.6, 8. ]),\n",
       " <a list of 20 Patch objects>)"
      ]
     },
     "execution_count": 56,
     "metadata": {},
     "output_type": "execute_result"
    },
    {
     "data": {
      "image/png": "[encoded data removed]",
      "text/plain": [
       "<Figure size 432x288 with 1 Axes>"
      ]
     },
     "metadata": {
      "needs_background": "light"
     },
     "output_type": "display_data"
    }
   ],
   "source": [
    "plt.hist(resp.numfmhh,bins= 20,rwidth=0.9)"
   ]
  },
  {
   "cell_type": "markdown",
   "metadata": {},
   "source": [
    "Make a histogram of parity, the number of children borne by the respondent. How would you describe this distribution?"
   ]
  },
  {
   "cell_type": "code",
   "execution_count": 60,
   "metadata": {},
   "outputs": [
    {
     "data": {
      "text/plain": [
       "(array([4.749e+03, 1.603e+03, 8.280e+02, 3.090e+02, 9.500e+01, 2.900e+01,\n",
       "        1.500e+01, 8.000e+00, 2.000e+00, 3.000e+00, 0.000e+00, 0.000e+00,\n",
       "        0.000e+00, 0.000e+00, 1.000e+00, 0.000e+00, 0.000e+00, 0.000e+00,\n",
       "        0.000e+00, 1.000e+00]),\n",
       " array([ 0. ,  1.1,  2.2,  3.3,  4.4,  5.5,  6.6,  7.7,  8.8,  9.9, 11. ,\n",
       "        12.1, 13.2, 14.3, 15.4, 16.5, 17.6, 18.7, 19.8, 20.9, 22. ]),\n",
       " <a list of 20 Patch objects>)"
      ]
     },
     "execution_count": 60,
     "metadata": {},
     "output_type": "execute_result"
    },
    {
     "data": {
      "image/png": "[encoded data removed]",
      "text/plain": [
       "<Figure size 432x288 with 1 Axes>"
      ]
     },
     "metadata": {
      "needs_background": "light"
     },
     "output_type": "display_data"
    }
   ],
   "source": [
    "plt.hist(resp.parity,bins=20,rwidth=0.9)"
   ]
  },
  {
   "cell_type": "markdown",
   "metadata": {},
   "source": [
    "The distributions is skewed towards the right"
   ]
  },
  {
   "cell_type": "code",
   "execution_count": 64,
   "metadata": {},
   "outputs": [
    {
     "data": {
      "text/plain": [
       "[(0, 3230),\n",
       " (2, 1603),\n",
       " (1, 1519),\n",
       " (3, 828),\n",
       " (4, 309),\n",
       " (5, 95),\n",
       " (6, 29),\n",
       " (7, 15),\n",
       " (8, 8),\n",
       " (10, 3),\n",
       " (9, 2),\n",
       " (22, 1),\n",
       " (16, 1)]"
      ]
     },
     "execution_count": 64,
     "metadata": {},
     "output_type": "execute_result"
    }
   ],
   "source": [
    "Counter(resp.parity.values).most_common()"
   ]
  },
  {
   "cell_type": "markdown",
   "metadata": {},
   "source": [
    "Compare the mean parity for high income respondents and others."
   ]
  },
  {
   "cell_type": "code",
   "execution_count": 81,
   "metadata": {},
   "outputs": [],
   "source": [
    "# Calculating Average Parity for each Income group\n",
    "inc_avg_parity = {}\n",
    "for value in sorted(set(resp.totincr.values)):\n",
    "    avg_parity = -1\n",
    "    parities = resp[resp.totincr==value].parity.values\n",
    "    inc_avg_parity[value] = parities.mean()"
   ]
  },
  {
   "cell_type": "code",
   "execution_count": null,
   "metadata": {},
   "outputs": [],
   "source": []
  },
  {
   "cell_type": "code",
   "execution_count": 82,
   "metadata": {},
   "outputs": [
    {
     "data": {
      "text/plain": [
       "{1: 1.2876254180602007,\n",
       " 2: 1.5016611295681064,\n",
       " 3: 1.5037593984962405,\n",
       " 4: 1.5581947743467934,\n",
       " 5: 1.3730337078651684,\n",
       " 6: 1.5348837209302326,\n",
       " 7: 1.3550600343053174,\n",
       " 8: 1.1897689768976898,\n",
       " 9: 1.1317957166392092,\n",
       " 10: 1.1132478632478633,\n",
       " 11: 1.1066460587326121,\n",
       " 12: 1.041033434650456,\n",
       " 13: 0.9935794542536116,\n",
       " 14: 1.0758620689655172}"
      ]
     },
     "execution_count": 82,
     "metadata": {},
     "output_type": "execute_result"
    }
   ],
   "source": [
    "inc_avg_parity"
   ]
  },
  {
   "cell_type": "code",
   "execution_count": 89,
   "metadata": {},
   "outputs": [
    {
     "data": {
      "text/plain": [
       "<BarContainer object of 14 artists>"
      ]
     },
     "execution_count": 89,
     "metadata": {},
     "output_type": "execute_result"
    },
    {
     "data": {
      "image/png": "[encoded data removed]",
      "text/plain": [
       "<Figure size 432x288 with 1 Axes>"
      ]
     },
     "metadata": {
      "needs_background": "light"
     },
     "output_type": "display_data"
    }
   ],
   "source": [
    "plt.bar(inc_avg_parity.keys(),inc_avg_parity.values())"
   ]
  },
  {
   "cell_type": "code",
   "execution_count": 91,
   "metadata": {},
   "outputs": [
    {
     "data": {
      "text/plain": [
       "(1.0831858407079646, 1.2910079891211967)"
      ]
     },
     "execution_count": 91,
     "metadata": {},
     "output_type": "execute_result"
    }
   ],
   "source": [
    "rich = resp[resp.totinc == 14]\n",
    "not_rich = resp[resp.totinc <14]\n",
    "rich.parity.mean(), not_rich.parity.mean()"
   ]
  },
  {
   "cell_type": "code",
   "execution_count": 92,
   "metadata": {},
   "outputs": [
    {
     "data": {
      "text/plain": [
       "-0.14996919777839163"
      ]
     },
     "execution_count": 92,
     "metadata": {},
     "output_type": "execute_result"
    }
   ],
   "source": [
    "cohen_d(rich.parity,not_rich.parity)"
   ]
  },
  {
   "cell_type": "markdown",
   "metadata": {},
   "source": [
    "Small effect = 0.2\n",
    "Medium Effect = 0.5\n",
    "Large Effect = 0.8"
   ]
  },
  {
   "cell_type": "code",
   "execution_count": null,
   "metadata": {},
   "outputs": [],
   "source": []
  }
 ],
 "metadata": {
  "kernelspec": {
   "display_name": "Python 3",
   "language": "python",
   "name": "python3"
  },
  "language_info": {
   "codemirror_mode": {
    "name": "ipython",
    "version": 3
   },
   "file_extension": ".py",
   "mimetype": "text/x-python",
   "name": "python",
   "nbconvert_exporter": "python",
   "pygments_lexer": "ipython3",
   "version": "3.6.8"
  }
 },
 "nbformat": 4,
 "nbformat_minor": 2
}
